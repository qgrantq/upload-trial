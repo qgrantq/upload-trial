{
  "nbformat": 4,
  "nbformat_minor": 0,
  "metadata": {
    "colab": {
      "name": "Upload-pic.ipynb",
      "provenance": [],
      "collapsed_sections": [],
      "authorship_tag": "ABX9TyMnFrWVlAWfzh+1nMehXiax",
      "include_colab_link": true
    },
    "kernelspec": {
      "name": "python3",
      "display_name": "Python 3"
    },
    "language_info": {
      "name": "python"
    },
    "accelerator": "GPU",
    "gpuClass": "standard",
    "widgets": {
      "application/vnd.jupyter.widget-state+json": {
        "315c0c393e394536ba05d819634c3a12": {
          "model_module": "@jupyter-widgets/controls",
          "model_name": "FileUploadModel",
          "model_module_version": "1.5.0",
          "state": {
            "_counter": 1,
            "_dom_classes": [],
            "_model_module": "@jupyter-widgets/controls",
            "_model_module_version": "1.5.0",
            "_model_name": "FileUploadModel",
            "_view_count": null,
            "_view_module": "@jupyter-widgets/controls",
            "_view_module_version": "1.5.0",
            "_view_name": "FileUploadView",
            "accept": "",
            "button_style": "",
            "data": [
              null
            ],
            "description": "Upload",
            "description_tooltip": null,
            "disabled": false,
            "error": "",
            "icon": "upload",
            "layout": "IPY_MODEL_3ebff697cd6d4cd5a208caa38bbc8d7c",
            "metadata": [
              {
                "name": "Off Garden Island Ed.jpg",
                "type": "image/jpeg",
                "size": 17600,
                "lastModified": 1599797447692
              }
            ],
            "multiple": false,
            "style": "IPY_MODEL_ec1da2b38d4545298c781405b927f62f"
          }
        },
        "3ebff697cd6d4cd5a208caa38bbc8d7c": {
          "model_module": "@jupyter-widgets/base",
          "model_name": "LayoutModel",
          "model_module_version": "1.2.0",
          "state": {
            "_model_module": "@jupyter-widgets/base",
            "_model_module_version": "1.2.0",
            "_model_name": "LayoutModel",
            "_view_count": null,
            "_view_module": "@jupyter-widgets/base",
            "_view_module_version": "1.2.0",
            "_view_name": "LayoutView",
            "align_content": null,
            "align_items": null,
            "align_self": null,
            "border": null,
            "bottom": null,
            "display": null,
            "flex": null,
            "flex_flow": null,
            "grid_area": null,
            "grid_auto_columns": null,
            "grid_auto_flow": null,
            "grid_auto_rows": null,
            "grid_column": null,
            "grid_gap": null,
            "grid_row": null,
            "grid_template_areas": null,
            "grid_template_columns": null,
            "grid_template_rows": null,
            "height": null,
            "justify_content": null,
            "justify_items": null,
            "left": null,
            "margin": null,
            "max_height": null,
            "max_width": null,
            "min_height": null,
            "min_width": null,
            "object_fit": null,
            "object_position": null,
            "order": null,
            "overflow": null,
            "overflow_x": null,
            "overflow_y": null,
            "padding": null,
            "right": null,
            "top": null,
            "visibility": null,
            "width": null
          }
        },
        "ec1da2b38d4545298c781405b927f62f": {
          "model_module": "@jupyter-widgets/controls",
          "model_name": "ButtonStyleModel",
          "model_module_version": "1.5.0",
          "state": {
            "_model_module": "@jupyter-widgets/controls",
            "_model_module_version": "1.5.0",
            "_model_name": "ButtonStyleModel",
            "_view_count": null,
            "_view_module": "@jupyter-widgets/base",
            "_view_module_version": "1.2.0",
            "_view_name": "StyleView",
            "button_color": null,
            "font_weight": ""
          }
        },
        "ee6d70cbb2e94139abd6a016801d32b4": {
          "model_module": "@jupyter-widgets/output",
          "model_name": "OutputModel",
          "model_module_version": "1.0.0",
          "state": {
            "_dom_classes": [],
            "_model_module": "@jupyter-widgets/output",
            "_model_module_version": "1.0.0",
            "_model_name": "OutputModel",
            "_view_count": null,
            "_view_module": "@jupyter-widgets/output",
            "_view_module_version": "1.0.0",
            "_view_name": "OutputView",
            "layout": "IPY_MODEL_964d4ae3a0094f89986e950bbf2a6576",
            "msg_id": "",
            "outputs": [
              {
                "output_type": "display_data",
                "data": {
                  "text/plain": "<PIL.Image.Image image mode=RGB size=83x128 at 0x7F492AF1F810>",
                  "image/png": "iVBORw0KGgoAAAANSUhEUgAAAFMAAACACAIAAAD4esLWAAAAGmVYSWZNTQAqAAAACAABARIAAwAAAAEAAQAAAAAAABPAdecAAFScSURBVHicXf3Zr53ZlSeIrbX28E1nvjNnRpAxSorQrJRSSkmZqayxu+EJcNtowP4L7Ecb/eDuR/vFgAE/GLargUYbMKoK5a52d3VNmUqlhpAUiplBRpAMDpeXvOOZv2kPa/nhu6SifXBBHt57Du/Ze6/ht35r2Lh/VDMzM4hIjBEAFSkAdN43bet98N4xswiAICKKCIAiQgAIIYiIUlprxSxKU6+X9vJCa00C77zzzsUrl7e2t3wIIpwkCRExi4gEH0OIIsLMRISIIToAAIAY43pVhRAax62D6Wx1eDybLqooKKgiMAAkiTXWHh4dnc0WLOg9CiphJSCATAAoACIsLIiCKAgogkgAoDQpRQCgmSUEjjECgHNOK4OaAAQRiNBajQh8/hAQQgQABABEVMp2H1cphYgAEkJwwSulAMkYE2MkpRKt4fk7iRAJiZSIa9uWmRFRKZXopNt6YwyiCs5njK0HQGo9Ny7WrQ/MvTwDksTa0WiUZ6nRTxfLsoLgA0QQREBEfPH5uPvW829i92ERBEVYN03bHR0RxcgxOBFQSsXIIoKIWmtm7k4YABEUgrAIInZrPv//EAUEEYP3VeQkSUBRVVUAwMwAgkTPfzM9/xAACKQUEimNCKC0RgBEFYzhCCYIEpHSSqvT6SKyaJvkRZZZY5NsPOinifniwT7My6r2iCiALPHF8hAAAREQAAQEAAFEGKKIiOjz3WGOMXJkYfDoEVErEujWzN0itdbdpxUhJYKIIt3JKxFGIlKIKERKRNq2RQQffOTuo0iM0gl2J+TdrrFnASFFiEBEBCAiChAQmQRRBKxSZK0Zjfpl1QSOSZImSpNWgLQ1GXi3y3wY4hK8hMjnZywkCIIKAQEF8PnZSCewCIBaac0iEoL3kUUAgINHRYlKtMYY4/MP+uKYgIWREECQOgViJCRCrRV0O8wIIgDgvUeEyAwAhBiZAVE4MnNkPv+nCCJ0v4iIAACRiIAlAoo1hGSQQBs0Br1nJCIRkcACmmTYzzY3BgLiHC9XVeujAEQCEEBUICLnWkDPjRR0uqxDiIgYWVjk/P8U8D4AgFKklFZKOedEhFlEQM5PWwSAEAW6p9A90UojoiADS5Zl09nMhyDMSAQEIgKAHDlGDiECABICQAzMEr33RGStJVLMrEkrC1ECMittABkkqeq2XFdVVSOpNM+FRSke9nNjzGJZaqNmy7J1PoZIZASBmY1SgBJiFAYkEhAQVkpp57xSmkgjcrfr5+Y3hBjFWjEm0VqHEBA7Yew2gQFAmIlIEEQABVgwSjRklNYgkuW5PznubJg8fychImKMwfuglBIRQYietSZBCMwYA8cACIq0AHSbH2Nk1igpCABL7VxVVQE4TTNrdL+HSZoYhYjiOWKF0gQWQQAiJAWIyAKAKMKKEFEhglZKxRgARGvdeTWA87MVYe89M3R6ToiAKMyA50L9QmM7S4FECMDSmVQw1sQYARG1QhEEFGbBc3ET6UwmgCIEiCKEyByd9yIgAogRAJVCrQmAlYJeP09smuee0mK1WrJEREIFNkubyimEJoQ6xtZ7dICdSrOE6BNjrDUhBmZRioyxIqzP3fS5YqpO6xA7S4jMAhCU0ud2oduA5479hQcB6b4EmFkASAmAMoYBOEallLAwyLl5RSCjNDCHiEjMojUBCyAiEjMDIpECJO/a9bpSRHmeceTgHZJNsnSACpHrunYhEJHVOhr2zimCGAIhWKNCBGZRRiU2sUajNt47Fu4OWBg1IgB05wadwHcre+6nqfPVgVmEO3+BgJ0MP3eT3YuRAxNAVCCCgqCMYY7Be6uJ6FyXvG+V1tooIBCtvAsAKIIAEEWe+x7stBERjDbBubpsANEFJhWUsYRBK7TGxAjOhzp2Lk2YQQRRQCsSYUTo9/LJeAQiZd1Yq43WaZY0dRWZNRFxZ7ugM4D8wgYidkaOAFETeM8iLF96IKKwIFJnGgEEI6BgBFZaKwRCrtazZs1lVUWOJ0dH3ru9vYsbWztFfxgVKavFCzOjohfSh4AAAgCM6JyzWhFiYAGEtm3BB2apqqas6rrxLkgIElhCjFEAoANtCASaVOtd4JAYgyKIUmQJkqRWp2miuwW8kN4XG9EdPnNEBKUUEWpNzIDIIXxp9c9X3vlqH1gRICEE7309PXn233z8LgkTgdGUGd3LsluP79li8Mbb39678pIoAlHMkZk7l64RiUBEIos2mmMApZRREqIgxiiBY9uGqiwXi/WqagV0FAosAuCjCACQIkCCGJkJVeAAgUmxaxvvNBIYrfp5eo7PukOLMT5HJgJfenS4/gVKZZYYzyGtsIAwdDiElAARRkRmdnfv3Pr804/LxWkvSzKjJPhpU7d16X1kZRcnpz/4y7+/d+XloEFE+RA7BE2KFBAhosbAUvRyYTHWCABHsZZIBIDyPK8bvyybCNw4b5MclPJVw9zBMeiOERUxRzLUKzJvlE20VpRam79Y+QsE2p3el1feHS1g58nhyz/qRDMyC0uMUSAAKURACeVy+ujBXWJnIZSzhWfZHA4u7W2PezkAHE2XX9z99F8cH/0H/7P/+OKNr3CnmSBEBAgsgtAZPNBGB+c7GIeRGUgLEgZmcT74KAxqWbnIjAoRRDhyDAxKgFgghhhCpMxqrbMs1VpniTFGG210d87ny3i+nvPnHc5lAJAO90c+9/n0HIRz5M4FxhijMAujcNuUjx99sZpP+3kCpaDE7fF4azjYGvQLo5HFbk4Gg8n+dP7er/426Y02trY7k4KKRIRFUIQloup+EWutAACVRqVdiApQgL1PfQiNi33QkUFbq2DYtq2PXLeMiAoQQYyyHHjdrJXWWZoaa5Ehtu4FFD/X9j8uGwQJmAU78aJz7MsoIkpxhzQlCHbADxEhRh+8Ijg6Pvz01sfQrkeWxLWDLM2sIYS2abBhhcig2IXdjX4V6s8+/ehb3/0Tk/ZFIXeQEwUYRCKIdBElIiitgM/DHbLUowQBkMj5WNWNC9Faa7U6OZ1Og1NkGVAEjVKEKEFQaUCqnZPlElgEQL/Q5Ben/dxR/1GwX4RWXWTWnXqnli/e0j1PEht8W9fl04ODFEMtjutaW/VoOq3X5aTIL25M+kWe5j3K8uVyflq2c7E3brwy2U2jIKBiETmPM4BjQEWdQUFSSBCFqQNhgGliiVTTusRq54NSqiiMZ9V6PpvXEpBIE2JoQ2/YywZF27bL5dI5732IMWoR7BQcADvwFELHFpyvGgBBQM71XEDoXAcRmf+4KQCglEYEZSA1Fjgenz7b7ucW1cP9Z6fTk6ZuejpRX/3ayaJ+/OSD3SuXxzs78+kSnD48POzvXIyRCdggElIQZEASilE4iG+9sdShJRRAECLUmpGEkAhIKxsDCPPGKN8c9+sqtICRkVna4DtfFGP3BYHR6FSHEJRSX4ofRYRjjPSlEBq69f7RtnXY7tz6/dEXIiil8yKz2njngIWIBlkWB4NhL5MozbLammyul4vjk5PpenWlcdlw1LbNcrF0zoMmeQ6QAhNLFGaOoa5rFskKRlJCpLUBiB0XoIjAoA8SYui8OEDIUjPop6sqNG1kYUFY11Xr3XMORpRSiKRfYO9uDS+ceTxHpM8t/PONEBFE9WWf98I0gogiYuZ+v2+NqSInWmuE12/eKIwmwNV8XeTZeNh7q/nK2WLRVOXG1jajOjfBnXkGFMGAIhK9b2II3vvW+XXdJnmBymSpSozqYm0BYYmd9VUamdkyDPtJ0yQ2NVUb1mUTYozsuY2dqhqjREA46i4s63S4O/kXkK5DteeG4PkuiAgii3SolV5sXPejGD0BXbhw8dVXXvv5g3vR+SY0NUFvMFyvyvv3H6Rpsrm98drrr+ZFb7pce6Ze0hsOB961opGhQ74UUQGysdZaAyCtC86zWzeAwTkoMqtNp57c4X2lkYMYhWjV9qTf7xUR9els/ezodDpfiYDRCkTS3GqtQ4zee33urgG6BXcH+Pz5c88mINi9piMin/sC4I7We2HhhKUNbZHanb0LWZrHyCxxvZwvpmeAVLrq4OjpwdHBS/VLb7zxZi/Lj8/m6WBze3sLASJHAorMgsJEpNFaiyDOOQtKRJW1a53zAYJvkzSxRgOySGRhFmFkQrSClFlrufWCoxx4opFcYBFGgOFolCbWWhOc1+c0w5eg+JesOj5ncM6/0QE4PieYgJDOSb/OwgOIMKJyIW5s7Iw3t51bW5G2XtdtHQIDIiV2vLmptH746LG12WxZNi38wFib5a0QsmCMIgLAyNjFeYjIHBBVWZZVE3UbGkuDYS+yBRCASEjnH5sBARShRQ0SAWgyKDjEdVWTouFgUPTyNLFaEUjUnfSHEL4M5l7g8Bc63En7CyvwQrxF+MWLoZNVQhB5+dXXX33zq+//8q/TwhiTFEYLUGaztqmj9wcHh/3BsDcYidavvfFmfzhuSVlliFmJBgDPwADCAChGG996QCmKXKB1Log1zOC8JwStqbP3IsidQzxfgiLkxOrRqJfmCaFOEmM0pYnKEqs16SzLmLmua+89ftlHvTh0QAHRSiGicx6Rn7NliHju4c5RXefYSQGIsmbnwuU2SumcZd/PU6uS1CQXtnaE4+HJUQCpvcuGxVe+9pa1iQcdEUkpLYyARBCBEJAlaiQiJIW9Xm5syoKoMDEaCTq8yggo4JxnEGUMCAhD2/qyatoQowiRoEjbNMAqEIvGNM21tfYcKnQMYQeeAc8PU51H4KQUEcYYEJUIA6IipUl1zF63C4joOToRo41FGG1sjiebvDyNAjECkITg16sVImVZXnlvkv4PfvhXe1decgCgUQlaIMUkKJFYgSLBECMKKBSlSYMyJhEgUkiEIMwiMXKM0XnPLKiVgPgQvYfj09l8vmqcNzbJ8hyZBcQ51EqbNqaWz6PUjvdzwTGzMQYRvXfMkQC1Vi8iViJEpM6LEIAiNMZopQCBGQgx1WmDrAWMwCtvvHbt5ZtfvHvGQeZh3VpNwiC0sbHJKFXj9/Z2X/nqdzEdMng0qIFMUBrIY2AlCCJRSCEpbZxSCo21gCYIKGBmjoIxoiAAQUAxVmmjYowtcxtlWfnTZRM8JInUrY+xijHkeWqSrDdIV5XTz7MchAhINjIrpRAB0TLHLxs8kef6T4B4HgcCoRASkTFkSFtFhQIAOj56+su//nePH94N4phbX1brEEnYkIplFQiDTT/9zc+ftc3/5n/7n6aD3CEiKtBKAiNDIkqQhABEtFJJmsTINjXCSgGBsDBjZOYYQ/AhZGmOSKSwaVuBCMLGpqQM+1C3rnFBAJgjU3t4Mm1c28sSrfW50ipFpOlLqEYh6k4RXih2F6gpREASFEQUBEEgRYSECgC4Z/Uv33n3//x/+j/OHn6xlRujYwiNIkCtKFIBlK1rEkX9vGrjZ7/4+e9f++ZP/uFfZcN+KyyAAQSJDAITMqIwI4K1pq4bhciqS/GQEDF7rSixpmka79o0ywlJBBXpEJrgo9E2Wu18YEEGZIDGMYur2nY8KM6j1BePF+FnF3jKc3b9RST7PFhnQRBCQhCUyEEZAwpMon/5q9/97/7T//3x55//1Y1XhxIenz0xPeUBdJJlojeC7ID0QOUmu9Y3a5bb//W/aO9/du2bX3/p299R482WFCCRdIk9QFREgmica5UShQAoBDpGUWRZgAW11j4EgOicb6ratcG3jgD6vULWVQieRQQ0kIrMIQqiWqxb/VySpaMZXiTMnltvfHHmf0SyAgLnb+uIPySqVqvH+49Ozk7/X//lf7X/+OGloriR97d8iFE9WVVSZIAokcdZ8dI4Sdtyvngy8GZi+vPq9PDnf/35O7/59v/46If/8//YJakTJESDCCJKoSYCQkIwmpTWQIhsWCQyU0fyamqda50nIqNoXpdZktrNEZlEabtaV9PZ7GRWBx8YwGptE02E2hgdI58LOcCX19mdebc1nYZ36TdkYhRAYYlCqAFR688/ufWf/+f/2eHpUV23lnCQplv9/ni2uJaPjk7nrTaiQ12746p5+frO17517Ze//puzR82A9kbWpgK8XLgnB6ZptU0cAiEJREWktUqtARFbG22o6CXMIgGdZ6IusQNGCwACEoAqsq2iSFlIUEUhkyTGbNbtzsNHx/fvP1TaGGt7vSKEoI3VGEIILMICIsCRIwII4JexzZepC4EundQZGhZEZr64vXN1e+fs8ROjE1fXkLFLqAz1JCuGYMo6Bu0UxKPV8sCbf/CDb333pe/8s//rv42nFREbmxeMY5OkzKu2MdZaEiQC1dlO3am6IlAEhF1KgJjFhRgjC0RFkBjVOf4sGXsfQ+Sqbozy1kBhVfry9iAVVErbNISwWK30H9OazCDckX+hS6nHcxrvBd90juHOBR46EpoBooAl9dZrb979/fvO8aDoA0KyM5oYmt1/tDfcPCkXPoQmNIb4oDy7Pf2soaMmjSbVp3UF6zqf7F65eElcKEbGEFmlWhTuEgAiWqMxOniP52lMIIUxIin0mtEhiygWQkVIIGi0ElF5QpEZKSKC6eneS3uBGUm7EPs9q50PnVID0PMMHyAKimCMAQWAgJkE2BMgRmDrjVMSMeYImoOfTk8/v/+3/+pfffTub6+Elcqy11663hxOz24/futHP6hn1Su93vT0YN7MUmvLQJFk2cxOH5+4qaznp0PKrm7sXNgc1b/624/ufLT57W/0X72JGxvDyQb3+41WQUBF0Ira0GhCZIh0ntERAQOkLEbucE1H15yrqtWKhWKMIKiASKIFRURFooeZ1d6HzqS/MOwdHdQlDZklckARjIKAQBgAvDCL5DG6Z8d/+LtfnNz9nJ8drY6OLrL0tnemrl09fbo73H52dPKsKle5TS38vRt/8vjR/dPjJ/vr6e7WRpLm0+Mq1nB5c/PNwe4kyXPScbk+m82/eLQfRxPI8/7Nl17/2V8MX7nZohKlkYhDPJc16BJv53qIiFoBag0CnYIKCIsQIgEppBC70ogOaIOIKA36RZTWCXy3fqVU0CQSJUgIHuRcuYUJEBhdzrK+++CTf/4vZ7fv2LrMA+cENOirJEls8/mTp1UVljH84fM7P/7+d/nJ0/Lz++NZXeh+7LlhL9W2d/fu/MLkwivjS1utZBw1swvRtm5iEopI0/Lg4aN37t790f/6fzX4+tuVVgSaW2kbZnqeliVCoC9FVXDOVTAToTGERMKsFBm2dRsjs0gE1EhIRPqc36cXFQvnsZqxJiKTsGHtQgzMLELICJihe/z+e/f/2389eXb6UvQa2YFbez+br1uAOBqMRoM5Y936v/v1r3d2NtNHh8Mnh0NFUScP6qootueLuJyFr+XDIoqBQIRAFNg7qdflOhEHQrtpsn788Hf/5L94i/+T7e9/T5RBUa3zQQHGjgZVSnUUeAc0u3RYh0q6mhxARZ3kIwigMEf2sSOSKYQYwgvjhQDELDGyIJBSChUKQscCI0DkBAkOTz771/9+8fHtolpvKBilOnLjQz0c5MbA4f7D5enhoMgn41G7rn7zy1/ND45D60ipIMAA67r96IPHfgWTpN8TZYAwCkQOzitCbWhRzc6qadsuhuzgwYNf/j/+ydmHnwyIRLh13ofI8Y/hcscIPj92IQJjutIbRARm8Z5DiEiklSbSIhB9cN5rZgFAkSgCxpjnZRMSMUYIhKiV8iIECMw5YRL57MGjdv9gCILRi9ERuPKttcmwNxgPB+PB6NbD/cd3PoXRZGM8PNx/fNTfTTLj2M/K5ul6Heb1h/fv75lJn4wJUZhJK4kAXgyacWaNCdP18mw1I6JU+PTzz+//+7/effVmojAEr3TSgY4XORIR7jyfCDLL/0D+pStd66I66crbBBAEO75dzrlUgHOIDsgk0kFyVNYSYFTMtm2zyGcP7un1eqCU0YoJ6zYEhgKtcqwU3CjG/SsGHj389OxZceHC5d3d+/vPwvZ2Wvnj6bxMksOTtpnR1vaOEQEOQSEQ+iBBaUElTJq0IV027dr5XFPatNOPPghPD5J+TxASpRkZEUOIzKyUel5pcG7tzzlCBBHxPjjnlNIsHGPoVPt8pS9Q6nmGKMYQQkfRSOQYgnAUYBEmjD1rz/YfH352Zyjc74rpIrsQXGSOIlFU5LwNN/rjb127vpml89PjnNQqNrdnZ4+a6gTjUtTtO08SGPVUj6IXYRFeNvW0rZcSGwVeqbJt69ZxpNpxRFDs5o++uP/Or1OI7Jwi0lorpbqUk4gAYAgcIzxnAzv0wSEwIillYmRmj8iIAp3iIvz/ZxQBzpOkEESIMZJEDBEiMUNYn04/+fnf8Ow0Yx99fHK2zNLEFNmsblAlqdYpCSFjdBf7/Ztb2yf7D6rl0mj9rF7TIGVSwuhbQIWFTRtwFZL2YVk3nrTXWoQNSgXgWECgrdqgLQpaDrd+9YvxW2/i5naIzCh0ThF0IFJAEIAVEWJXe9ZpPoXgmVmEA0OXEWCBDnnqFyTUiz87mhHER8UeNYKCVlAxcPvF799pb388Dm3jm0portSzskmFfNabhTDWaDEyelLUI33ZFn0gAb4w2TQYIyphl4Layid9Sxtbm69/95vpco1VGe8/evL4YNG2T04OlTU5qL3eGOo1hMisfCAQmT+4N/vog9EP/qxyTrTSSMiCwkAYOAgQM2lkhYGU7hLhXfjeJec9qxihe96lvymE4L3vJNx73z1njiIgQcAFZA++Nm1V7z9++N67UK9MFS0YneZ62H/arh7W07mrl1XZRPZkgElFVIKkKUmTcZHf3Nnbwrw6mqWKrl/YubE5GRm7e+3qlW9849Qm637/9b/4Ke1uLaK3ecaJPmrWcwje2sboJUmlUUglTA8++NSdzlXrwAf2gUNkFo5RIgvHyLHxbe1841z3Vbdt652P0Z8rsX+xwBCCjvF/IO2IeF73CcAQGQVAKYxxtbj9y1/Vzw4T17Jgo9QyuKNyVSrJUjNWiV7VjFSiToxVaSakACnROk/SuqqeHR7lvWyUJluItfctUqpTxqx2qWZtJnuVTWez1VBrNMg2OSuXygVDeuGjgGx7O7TZ+v5+9eRpf2+vlSwqjaSVQgWoAFkAgX0MyOJ9fOGhBAQEOiv0whN2oEW33n+JXT7/+zxoRwFmzy5BeXLv3v1bnxVlqB2Spqdltayb8WQjJKZtm77OUDHZdOPlly9tbvRye/LkGU9Pialp3eFi5RO1mWW71iZ1Oa8W2B/qvO9VYTcvCoa615e8l5rMeA/RDXvZ3saWRgqI87qdL+ep0rmIX8wPb30yeeOVSIqNRCVKyCIqFELSRAHRRf+CVupc1Qs2RSllre1ySsysQ+xYXhLhjmnrXsooAkISKcbVevXh+x+VjhNTrJw4qU6bMrqwGbgHOjSe0feH/etvvJH1+rOqEuTAkmU5kZkuytrJME0uZ8Ulm/pmVUPs55ljqTVtfP0Nr7wTNv1BPhqGxazy9VjioAlR4Kxc1pEtSGa0Ae4hnty9XT76Am68HoBbiUDaA6SCWik0YIxloOB9V5x8ToQDIKFRBp9XL3eeW4fALygnFu5SJkTECABM3uUo997/6PjgaYK0ZkkjGeG+TZbrdnp8OtmYzF1YQZkN8kZCc3BIywVkCfpoUbGiZd1omxcC22kPfGgYIqrNpFcs69NPb/ks628NjSZuG8eBjPJeAkAlYbVa+xhTk/jgm6YusqQosvnp2b1f/Ora9iUfY8hSNsgMBMQCIAxKi4jS+kVd9TmPiOdcwwuoDoC6wwPn4PY500rnKdmYY1wfn+x/+CHU5apaU4AcOA3RmrzV5bRa6jZV1pyt5oPJ8Ozp02RZD5ldSYm2yF6ltnXx+ttfefXSxaRs9j/7fNnAqgnKy/TWpweffuy8zwe9rcsX/OFT11SF1gr00oVP/Gldra7sXIwNK22Op2dlqi8lSQ/06Qefjt64O3rjtTVLazmQRiBDxJoEGZg7Bq0DNi9wCrP/svwzi44xPDdtf0ywdYqSGKWifPqH98rDw5SiaI5NLS1bEtQqLbJVu5RqsZn1bWu4btWqzrwjCKAtaa2DgMTe3ubkjZd+eef2n7759vrs+GQ9f1rX79z+KL10/ermaMtzUy1ODp9I24irqbcJLls09el6ydIOIOTaWFQR/eFsqpTdGOxk0N79ze++sbvL44FjIW0IlAMIhICAkb9MmXaCzcwhhBjPE8ndSesgmQYhFCIJeF6Fr4CFsJcnzSfv159+0FucDnZ3plUIzmUKM2ZhzJMEhE6dY9NO+n2DoqLTiG0A7UC0PnFuhqRGw8PT+b97710cDQ6On71y42YCcHh48Otnj8u2vDka99EPKVlyOKlKtbVXsj6q2qe+SjI79wEbb4qMrNFJ8eD47GDZEOi2XG/cvNb/3ncYSIwuOXTIjAiDCEhXewuAQEAIACwtIHNQ2GJXSgGoAZUIC0cgJCLUGoVJOCWEo9N7v/i1Xa6td6cHzxxDT0ghBE1pkvadKihZNvVJXIFNejmtuC2rpiArqKuyeu/Z/jxX496wRgMqDTqZIR60Tbqxkbh2I9HPDg8zCHu9vFAqoHpWlycnh1olp8IBTQa6rFodZDwexKoyKjX9zFubYaJ8+PW//Fd/MtnKX311GutIhAKKBVFIESnlzosVWViEWaIwoUIE1AiaEZFQC0qUiMAIyCIQBYAVQtK0B7/9LR4861UNAMTW9XSifTCpclrVVRVRbW9sPXu6v/CubutC67ysk+CWEFrX3JlP74bW93d284EpBonJk6TYuXa9dS5PbYEyRM4ULBazQZohYY24TuyDxTGjNSI9nQ5tOouhiTEtq+0kK6VdJ3ptlCGlbdKW69u//M03t3ftoNcgAaBHUNBV5AoRGpv4ENvWoSIhIe4qQBBAoQACahZW5x0gKALCbBEQYXV0sLj7yRa7RGNNZkwgAQRB2LU1rsoqaFWTeKvXIRYm0aNxy9gCnzXl42pRFZlT+Xw5f3Dr1p/9cPc/+ulP8/4gNu7j25/KeAi5/eTRo68Oh6YNdR3S1J616wXyUlMtMuwVP/7Rn+9m6a3f/ubk4KCYLa5fHBPJSVWF3C7AH7lFFnV48PnFL+6P3ng9KB3w3IFFYSDR1mq0EaIIh8hd9hM4MgQQxxgFUbOc9/fweVPPeQHA8aNH62cH2yYxVgtq5UF5OJsuF6uVUNqCzJt6Cpz1+37aBK0bY47K5nC+PK5nk63NH377O79459dtveLj/Y/+u38xHA1Mv6cG42df3D8sso1h31R1uW5f6Q02s2StcH86XTcNJBaUqom+9sMfDEh/+Omn2cTvDSZ5PthMirFv11YtFNzy9Wy1/vyLz9N33/nJzZe8Uh6AuCs2VpoUgvaeQQA7aE8oEkIMGpUwClnPQceOvEISgCioUIXokeNiVZeY3FqXPlQtcYJmTInZHAenofRKEzdBtWF3OJquVoumvn2wz62rUCGZvip2Jb1MCZDc2Blfz0ak9IJjSOilK5fWSlVVU5N13p+cnlajbA/EKRoVg2Iy+WI+g8j/7r/9V/WqbNqw2R/enU9J4yvjzUGtCu9s07wB2WMVDjJsqjL44I04BbrLrhKlgBycZk/AuWIySBgl1q2rOSjExAmqcwuHyABdzo0QBNg799mTw2eLdZDGSYMkfQybGDNgbfUFm1N0m4l6qRjUAR7ywQqxiiG1ZiPvK+f8YvXer34dQrnXG1xKsr0gyhof2pNyubu39bvbd9erOiXtjZ7FZn10cGW52hgMjbHD0fjM+5bl0w8/HmLSz/P+1mZR9H93/7O5b76+vYdt6YPzjWurucmTSxtbBdjGodfCEhkhAmHbFgYTDOTWzeLMkAC7BMrt3KZ5CoSNiBPSgArOA3aMgjEGQmrK6sHh4alvk1RR0Hs2u2SzQeRQLaJrvY6DQX/LaOXg8WomIQwGvQTMQCiRKISpJWv17sZFhDjGlJXyIKTN9Phs582vfO/b46cnJ5kx1qjMKFvWuY8Qw6Ban87nrmlbRQAS63bVlqfz069ffXnr8vV3798moguk1+vliQs+hGrVNhwr4SgIQQKEKKyAlDg/nZ1NnxRufvbg05Rr9KXCmKU02Sw2L46vXNoqNoYagLoaLxYQBEWELMyijRr0UhvcXt6/ZrLeutrQOh+M1s3y6enRg6f7m1s7UdS9o2OvKEuzxEkaIQHp9Xu+bglUkQ0ym4x2d7auXppc3DHDwU/SVCaTOBiuo0eJVkIC2LeDZjH7za//7t333/dlg8p4iZFibZgV5KDef3z/+tZmzLJ7ywUNN6o2luy9hNKFFchSqxpEAoOAElGxquZHj3/3t7PP33t9t0jaGUmbIgDms/XyBNon43SwVbzy1k3dtfSACBISgURWJJrjdpbaNBk5HEDIFsdjrXd7w1xjduXqN/7klVv3Hv7+zqMjMU8zW0GqPRRagUGtrR2P8xFeunLt2iuv2tGwjPzZ6fTk83vT6dF6tXQAqwjLNiiII8W5xmK0u7235WN4dHIyDdwI9bO8bUtWiqKIgnlsHs1ONMqJd7RcZZTMOOST8Y9++OPL3/9JxAKYNUURStr1+smtw88+zp98fkU3u0Rr9k0Voy08gSOrVFKvYyzX7z7+vWZgBEEhEGAWQ0oDxBja6VlxeraR5spVG2g200EjeLxcbY2KcS9Lru7Bunzw+eMq7TvSbesKlYzzPCBeeeXll2+8vCqXv3jw8bOnh/OzefSxr2lizEiZWvBwtTiLwdXV1sULF3rFoJ3HI3fv8DjN9UCl9dOVOAysMoXRVUolaLOKdL2a7/TzpVux0nvf+P6f/uwvdm6+OoVkHQVRAD2SWz/+ePXhzzdbp5sVVqvaYq+/cVYuvzheNGDzxIxS2kytYQcBtaBgV/TLiCikgIPP8qSX6glBElsSb5UuvX9YVXeO9vuraX233V8sjh2vkryMUZNReVaDWIV5b/BwPr/z1/+umk4tSD/Lrm5NNjc2w8GzSYA+mYNV+bBpdM+2jPce3L924+aOWjVttRHaw8WZTZMNA7PpQnS6ojah6Ev3F3/5Vz/+6V+884tf3Pn9H5J+/yd/+ZcXfvqzZLBxUraeNGhU4jPG5tn+yfu/TecnofUZQVT6bLbKHTURT0I4tRs6wLCNV3vFVja6sDHRgAhd3w4gEkXfItF0Op0v54PQ9E2iLDSGyug/ODuhnR01npycHJ64donYoEZSCmBnNKjrtUAYbk9UjEnZ7Jo8E7CgJfDucHD47KkLzimar9dr166bKEgM6uH+wbWrRaL4JW0qhOl8eb2/dcrNfu3mQMNeTxw/fvTF79/73Y/+4i9//KOf6STbuX51bghUgsYoEgeB0Kh5qD+5k87Wp8t2Pp9u9XpWJ3VVmmUtRX/r0nUaXkGjCyuU22lbLXzUSIgREBhQASADBObKuajsWrBAKKxxxj4+nq+ExrY/nZaLlhzlXiILpkmSAi7OplpTZnS1OPnht74Tsuz449tZZCaqLPm2TZK0Ll3p3SLRaPqjcV8p1Z9wXVYfHJ18ZSfNm/I1Moe+3aBsaMFVyyLr5enmlTeubV2/elJV/8X/+5++9bWv/+gv/3KZkK9Ko1JNCkCsQhA8enrw9OEDs27mQZWTLTvsZ+dtvglHhaJUtQrAa5Bsc5LrdD6bakWoABRhEGZhstq14fqrb9Cf/4M7//U/bdCZGKfOHSxWOu/HhVssZwftEnq5TRPftiDMqNZltbmxMUp67f6TZ1nvgrFbvUxVbdn6mkNYVYP+5nRaHVbVGSANxkVRgCJAaPLs6VnQs/Irw2Igrt8btGXVa9uRb67cfPMv/qf/ycb1602eNoD79+//9hd//U/+b/+Xn/3Dn7128w3mpnZhVbUnp2f1as7TJ2Ggbb7Tj7sNl7O6OjydrstlXbUJZNZkF8a9zVE/7/WkrJAla2ttlCZkEmHmIBIBSSnHcONb38d1fefv/nWs5tH5MwBBim37rF7T7iQQ1FUFIOtylWtz9cKeZYHZolfx0zv3GsILaZZ1VBFqv1zTpUtHiXlUcWtTY+zAZL0iJ8KyKuuIj6ZHZlV+bWtimybOytBUBenVdGaKNOamBG5bPxwMvvutb//uV3/zz/7v/8/v/OjPf/TnP71z69Nbnz3g1mexqY/ux/UzX4dVLWlmhkQpBA6sten1hl/5xnfG/dHDL+4tlstUMbRVWy40hygcEAGpK1ZGJgpRKptf/bOfLOuzJ3/7753EY8VEcWj05R99Qy5cufvpZ9WzZylwfzTApjT12la1iQigfOO9VlWokyyLKE10vlz5+exEwhSBNRXGJMPB6195s3L1b99919gMB5Mvzp6oo4MbvTQfG9VQbLCdr371N/9W9jbmIfSzgSWrtH71G999JYQPPvzg5PT4Bz/+0d7FHxVpfvLp+7ef3cpBVUlYKX8xSXst1y7MgGYBv/K1b3/77//jp41cvfF6nB7g2cHRnY+kFB1bh4RdZkYAupaJqJBFOMu++g//J9lk79N3/i79/E5Z+2s/+UF29dKd42NvEkSK5ZJazGPQDAmZrkbZIU5jFBQtEVka70+XM9cfnLkQEV1VaoV125+t5m3bVqtVaKFXJPVk+361rs7KNzd6V/Yyx08W61Oq5xlMajLf+/5Ps97ECUpmg4SNl9/47/7Zf/Wv/+X/9y/+6h+ZbNDMTi9iPTYxivYpkyvr1rPjedv2Xn776vf/YtbbnrvqLEw9Zm9/9+/3L3zt43/3L7UPoDSdV7+AICHHiETMniEKqVd/8MOrr7x09b13S1faja2PHjzcf/To+PEjmJ+OuLGJGVrLbevFESkSFtRiTYtx7X2qkybGGtWyaVdNG4LXWoe2OT05bqpKARjGEPx86UA8kyl9bA+Pv7K3c/PiBXW2fvLhR0Xb5DdeB4UNYFDWBRBU67q6cvXa6tn+3/ybf/vdH/xps5obZEsCURKkVaybKGfr0lnz5muv9bd2T2s3Oz0tsmK0u3lW87VXvvbS/EwTcPTxj92gESwpCVEnGkkSIIWy8fLVt7Z7H330/u9/+wcN+u2XX/7dwX6WFxds/0ov30itL6uqrDhGQsx0gigCfLxaiE4WSdLYtKzrrpA2AvgYfAhVWaY2Mdr0eglpk6RJntrRzZd6rn5w/4sbNr052gxHh0/vfJJuDL1bQj4IYJXAw3v3D+59/q1vvL09+rN/+s//+Qe//833b+ytT7dkeaKD5xhDCKJNFUKxtbV38VIMoW39oEgVBmF5+OTRKEsvvfE1bbnUWhutrLFaa0KMIQYfq2bpYnO2KueL2YXLu0+ePvzgww/DerW9sV1sjP+D//AfJ4vp4tbHg3Lda32RFZQUAuAligtaK6dwFfwJy1xwVdWtUkWRj8bj8WSysbU5mUw4xjdfe2P3wm4xKHJbJElO1lotzdNH/+V/9n+49/ndV0fh9Z0hLWbu6Cgsl3pDceSj+w+e3bn92ptv7lzaNcb86Gf/4Of/9T/df3r40pVXV3er3M/IewUSJHrk0bDf+PbJwcFJ7fYPn8zOpi54TPRgNHz10jV9/84fXNuuV2ujNQE0TVOVVVWWbdsCQtnUexcuhOb67VsfVydnm8P+a69cm7z2ldBWqzt3Vh9LKgh147HtipO1pVQZAqxbN9re1ZPx5UuXJ5ev7+zt7mxvjicbg34/zVKt9Los+71e1VS9ca+f9SUoH0GEVTaG/vgUsagWezG5MZpMXUjnC93Wjw4OHnx255UrV3Yvv1xyozApdq9+43s//Pjn/2by6g01uejbJnWNJY0kysCFC9vPDg8+v/dMDSYmSS5eunL56rVkVJzNZ8dt1O99+B6HGEMAgCRJUmO7qRLKkPfN7sWt119/+d6dz44e7Y/6+WA0+OzJ/fLpseKIzw7y1mkgFqghEoNmMR58DCIQAXcu3vj+X/0Vb21nw408TxNr0jQjgHd+/c7R0ZE2pj8anhwff/c733z7699kFCaSiMYW2WDckjoTgNLvhXqnN8lPn86+SA4eHl28+vL2jVdKJ4BkwAjR1uWXkv7448/vf/2VS25xSuulsWlK/NJLV/tpUmyNr/34+6qY+CjVqhyOJy0Blm5WOz3a3PHOa62993VdL70XIG20KMiH2StvvPrkYH9//3Gap7bXKyW07KNronfatUpEATChQ0GFwApjFAkiULoQVyWQ6qpEQ4wGtPcuT7Ptra3tra3xxkZW5P1ef5DlGlXAKBpYxKbpYDCRqByZubB27Mpq/eCzxfT41Wtvbl27tOSomRhYceDgNZpRf3B8+PDpkdkZbZbLmY5uc3s4Ldduve4n1mZ5S7puQ9m6nkhkU+Qby8VMb0w2iYi0dq713kdmRGyapnbNxUs7TdU8untfIW1dvMBIjaslxkRrlkAIKrKODCABBQEJISodIABHIWybNrTeAFJkBIgsXbv7m2++aaxFQtKaSGs0AAElKGJQCAqLXp9AcQhVkPbKpfDK9bkKYTq7NFkPZ1PqDZ1OHXgV1lrEaNweFqaHZ88eJ9evq/54J1Ws4NGnt9/4yiZGiqA8U8QkogpRGCgxPd8c6u3NidbGBTefBwQBANLKGDUyw2FvePvd37GLG5tbNstVmlSHlQYq+oXGrF1MBVhANFLCCCAEGEjFGATA2IRjFOfovKHpef04oo8RYyBRQBwlRE1a2BCJjywIKIPJBmirQ5TUtBuj2Wh0cHxkVpW+data1fnent++mI970PDZ2cw6NBAnmaobf3Q2vTDZFBVdszSJDcEvZ2f77/6uVP1isI3SKIVpvqmNGfQG+uDZM5ZuGgaGwAji60YRXt0Ynz5+MJ2eDSeT/ua2IAoLQIjQuuAQ0drEEZ2xG2hFdSBrHIFvnDYadFJVdZzNqaoiR1Y6FUWMEkEIGSB2oxmYlUKSNhKyIIKhGIiwGA1Y6RDSYnNCo97RsycEZp0Xn6m4Onl8ZXY6Lmc0H7eJ+vCTW4/3j1/J6KZJNhI8mM/X2eaqPIbVs15K9XpGRw8ffXr7MZss3YyawOhhf9zLJzrvddUiRFojkmsbAMnSNE2tb9uDx/tG6V6v3zoXQBBYk2lDhSKKEBGQKDKzRiSMzOe+mgNECjE0bdu0bR8xRmaOIgqgq1HBrk+keygifFHTqZUPMR31gyGVFbvXLj+ezdlYSVM2pmY+USrJrHGr47tPB8PhnsUj1S7atkFJY6Kcmy7OCnGyXve8m86f+hX1B3vfvHhZBpOT9aKKHt3qZDqtXNBN02hjfOTAUSkVQ2zrcntjdPDF/aaukzxDRV5EEI1SSWJ9Cbm1udaLulEKI0gTYm608x60UdbWdRmjpHnPeamqqn/e43xekCDnPfwvOp66Ti8EAEGIwqgp6RcbezuXB71yMU+8T22+Bpps7cycP12tG98sTldjNHJ2MsntBtcmtJ6kXMz7k61765Nib/L2V36wa/jwaPXZiXt8cHh11Guy1LkKCN94482z49mTJ0+1MQYQQ4zMEVlQYpbl9Wp1/OxZiLGwybppWNnGO0NgIQiAeF/XVbVapq7VIAHBsQipCEBWK0mYvSACSFPXBMTCX5qt9uUJVOfFqvCi2hqJOQ6Gw9feeP3wg/dNU2+mRb8Y3A8+S7ONS9eeHp+sm0r3+8om9fIEod4q8k070KszGvfURmHbxZPp2WtvXgkDLUo39awJ1fHD27RcEmELUJ3t/PkP/+wPH3yom7bxIRCZrikps2ZzNHy6/8i5Zjgabe7sVJEdoOLUEqKvXLUyCi2ohfcqMoh4jhoVi/gQQ3TCzMDr+dSjXSwWzBGZu2ksX+6EelGkeD5QggUFUUQJDrIiOg9lWXgPleN+X/ez6fTIrVbj7b2sKLY29parVbqFy/XR4+WCbfrmzsUkU09npz3Uxy3vH67nZy0pFRReuHyxJ7GIjU9zNxgc3f3k16tFNhnpwWBgk8S5qJSyRhsABTI/OUmN+drX32akw+kstkFpktieT9oKPk/SlHSubWgaRm5YSOtWwnl7DxBpTUKudV3R5YvVvhDw52J+Xq4MCICokYQFAK0ymTWZRIni1nPMoGmUSpPJsCdCNkFZSz4Yo/Fvff8H7eHZ/vQorSIoSFILbTg8rGrrjQkQBE10jDlwEF+7ViXpbLFsBfSFvT2TJoSaWSAGLfHwySOJ4fKli0WWn5zN1rNVw6K0ThJjTFIi+rb1zORDrowk2aJahCggEgiRMLOJC85XDZhuVFNUX6q0e1FCLyLGmBeDPLqxbl1Rls1SZc3x2VknXNg6G0LPqHzUnwz7wfkmLhMLq9OzcYJVE3SWthDO9u8mGUNigamq6wxEx0Uam8jQG+4ATO4/PVm2yrExSiaU6qZplDVA7Fq/nJ310mR6eoYg/aLIkvT6lasXL17zgsra9Xo+PT6oFmfsXFs7CJ6rpkgs9vvLZVm2roFIGAFYQFh4UPS88yEEq85n5XQLRiRShIiPHj0S5ldu3ng+u49YuAkurJc6T1yMAVTPmrZqTdnmUaBunnzxRS9JUcci33RpNl09e7r/cDdLYXE4cNMrFzd4XJTred1MxztbL437qnFn03q+fDaHdDLcPVuuvVIh8km50jaxy+X65PisqatRr5CmWsxnHGLZ+nuP9jkKC9g0y4ts2M/fuHHjjetXoa7aw5NZsKuDg9Vy7lshi1ZF52sf23LtiizpDcZrDrqtJMbA3lD6R0smAFGMVhA5eL9arYRj0zTT+ZxR2qYpEHvb2zAZnh2fJKhMkedATRvqEMeTiaVsczz2qI5Onw63t315fDUFWmMO9pXLw6ccemko61pn4LlMpblYWLv2yq+/8vZr4YsH91a17o99jNq1rirrzc1tDm1oKleum7ruF8VwshFMopCqsqyaCjVU5WK/LkPjehou9YavvPVW8s2vedc0y+XidPrk8PDo7LRdr5rFIiCBNXUIOSL7oIGEY9s2MXgklBBijHVZMkdS6t79z8eDYZZlw2GR9/uJ1jrEdlkOtrb5bF5WVZEaEiYWm6a94eTK5ZfH4/Hh4fGiXLHzeYZXr+SoR0/nX8yXy5AVoo0HEcLGSXW20iF78GQ63tj0s7OXh0Ob9s7qyCrVRAoQmqYKrq1Xy+XZcdM0mxsbJkkpy0Pr88FwlCYs8fTwmXOhKtdHZ0f3lytcroZZVvSSXpaOhsOdly/vvv4SsZTz+dP9x6ezuaub1ruDs1Nd+5bbwaDfHwyKNM3StNcr8mw8HA56/b4yKjEGASNwEJHImnRvMCx6PSwKvayassQ8jW5AAlYnWVbM1/PT2bRcN8uzw4zbtejJ9gZvbf/us4PBpZcC5KB80/iGoVqrk+mqTrficDRdl1FnY5Ve3hoSKF0UReNc23oAEY7z+RRJhRgfPXqUbGxujCfeB/B+uVoIERAprUXp3YuXQnJ2tv94/ax65hx3zZK9XjbsJ9aczadnZdmmlok5M/0LmxezZGM0yrMsSxOtdWKt0QYRjNVoqOv4BgZEJK3YxSTP017Pjka5TmarqVutoWmMYF3Xx2dnaWGT1OQ946t8YC5XrC9eevNK+jKP7jzef3a6rp2odcWu8kfHPp1cG19+ww02MU2BQYsKXnLU+uzsTBvj0ButYnAcAgGkSVoUuU2sJewP+jaxo0FPoscY1vP57flJsbOxc3Hvg9OjWFUQJPpoEpUFSEsPTiYqpYE59u3au9VqOXYNpgY4IjAREqIiJIVaEZIwB600AHAMjQ/MzG1w3gfEwLEwKjM2NN66WC0WDx89OK3aS9vb42GRbI38etovdkd7e49WC1Z579XN5dHP581BkiSLEsDb7NpXJ5dei3YjswMnnI6LylWny5WRqLM0VVrlaaoJ58dPWWKWZsPhKM8LpVXPJtaYqqq1Vd3QrLpct8BP59MaMHTTUBV5H+rWe9+sjqNHqDWFXoZ5SiEa5hxRI6iuvzNEIBVCAJQYkYW11eJjcCHE2MYQWdqyWi7mDjkgL+oafIQo5COFGH2LGFJiX62r9WprY9u1bhU42HwdsGnqGaegc+/c5sXrN994LepEqDeeXGRQR6cni2bVS4uin7q60tE7o7ONycg3NQlbpRJj+r0ClaqqqlqVzKxICSEi7+5s5XmRkLU6oRjZRxMFOWqjRIFzfhGrOoQKIEprko0GOHC0iSXAbi5MWzdKqSRJkCDLUlKKRUigKStAZIAYA8TQNFXgaHuFWzesEE3SBL+9MR7euFELrI6f5Hl/c7wZooN+MtnMjE1CpOguTfqDX/zr//7oycNXXv/an/z4J3VkYZLALfG1G1sKQIloAPZeHx8eKq3ms1PimKY2sZpjWK1WxcQqm7CPmlTR6zGKMTrr95Uy1qTeBc8MUSwSMJBCQapD7Qij0UprSVLP0nCczhZ103YdUs75bkQZM1trF+0yL/IoQMzTkxOlVFbkPvj52dmjh1/UZfnSlasXb7yqFZWNO1Z05StvTC5fG21uCQettU3Tsio3tzeNQgQM3hOY+trVzz74/eHTB0lWsBNXVr5d+2btYww+qIjMQkSRWQ/6g8FwOJmMQlvPND199CCxdmNzo4yyqpvQuhj5bLmo22YwGKyrql9kgWjZ1BrRC0dmQ+hcaF0L3vdIQ5IsIsc2ohVCnB4ds3ON8861TVMTqV6vcG1rjCFFY55oa+rlajGbH58e33zt1cihWq+r5aKdL77YPzwlsqlJ8l7c3JieHnskXzdZUazr+XDc3929YBgoaojecIihrebz9WpuUzPoFxTZhCjBEXkKoLoWV9JexMWoXYC6jtOzMtUQg0RmIQJtmCMoFk0MYo3ZGQ+TJGnbtjprYoyhaiKIYWaQsmmEeaMYp4oixLPgF6tlwwBegzZPHj88OzkcDMdt5ay1xhiNkhgjwSudrtcL7+r1ctnLe6PNyaKp2Xtu2+rocLesLxBI0+r5qg5Hbnpy88//NEwGx7PT5uC+a1sWGQw+H/QHk9F4Y2MjTdMsy9frRbWuirQ37BWKvNYxBM2SKyNRHCCLsPiQadTXX766WpbA4kJYrleIyvmQpFkyzLfT1HtXluvLly8DwNnZWZo655xNjV+FbsymRJ9YlaZ5kaTiYx3iqlxH7zQp8EEZs5jPbn16+3vf/xPvnaAIsg+GoxeRxjVIpA0aZQBAKR1aF13bzOenj/aTs7MVqhRUTppBiajd3ujmn3x/HamJVdvUy+Xq7PT05OTk08/ucIwxxiLvnRyfrNfL0Wg0Hk8QQCkyRgFwjFEb5WMAEKWwaRp95/PPlNLDXj/R1M11JaLLV67kg40mcr9frKuqaeqyWud57r2pqrqb2iAchT2HVhCqumzrWik1rcuyqSxgnueVSOlaTeqTWx9funpxPB55zwK8ELGkrDaoMEkTEk26a4+NIJACHu4flAfPBhG994mCIJwa7ep2/eyYGoeolFF5v1f0excvXex6FOqqXi2XJ8fHH77/XlVVr7/+ep6nzNylSbt4iRBtYoMPbdvevn1b9waD8XhyYWe3Z/XtjxtgDq1zVTXZuuBceLx/cHp6si7Xg2H/5OT47OwMEUgpZi7XpTRtDoAiyprEJMuynDW1VnqYF0zK+9YSeqXWq+WHf3j3e3/6fW1t5Bh8iNpQhkZpjhFIMXMQb/McBa2PJw8ftYcn2OuTSRjAc2THra9PHz1G7yklBumqdBnOC9qLXl70i+FwWBQFEV67ftUmpmmajvdQ5yNVQUAWy/n9e/e3d7Z0fziq6ub45GRJCAD9Xv/sbPb73/72ymylev3lalmVJRIs5jMQ3tvbyfO8nOZxNre1c4LWpLlVOk3W63K2WNrETnoDYnbCmdJBYDjZOJhOH929t7u99fJrr0UUITTKtN5HiTZJukxmkqRJmmZJopflwCQbSbqcL+x4nGZpJAARQ+bx5/eqxQLy7Y7g6AZVnQ+MYgGAZ88O9g8eZ3n6yis3u9YcxK70k2KMRLRerfb393f3dieTiZYYgnML5xfRE4dsOIjzxelyPSzX4NumroUjMBNBntjRoD+ZjNVk9Nre3uPf//7u/UdKYwSpq/r4+MyoZDIcaEAffWSIwtevXY82qZerRRPufXTr8sUr6WBIymhtkjS1iUnyrJflWikkvW7q1XK1l6QK4drlS7Nnh7PFHLi3MeyzcwBSL1e+bROlVDeLvhtWKIzP++3v3783n88vXNi7ePFC932tdZQgAlrr+Xx+7969l19+OUkS55zG0JwdPc3SfHNzQ6kkdc0wIPbGxcbmMLeKqMhSjagJUCR4H7zjEFHAaK2NQmAX3NlsjkptTSYcnPchAHjCqzdvql7x+PF+ESKDGhVDFcSiiYxZWozGQx9dWVWTySSxlhlGSYqRjQvHxyeTKJcvXDw9O5menbL4i5sbxApcbKfL/KWuWv+87x4UcWRCbOr6zp073rm333671+s557UhZrHGBMDZ7HQ+n9+4cSPP87qumVk/e3Svrd3nn93+4Y9/kmR5qwwXgznoZDjeHdq6asS71vvatbF1BADCImCJh8N+ktq6XC4XMyE1GY01IAlqY5nl6ktXXWY+u/9FWJcDZQzLN9786o1rN+bOO8IkzRBJAPJer40+N4VBRaQzm5x+drdx/unRkdd6MhgUiT2bnx4eHW31N2hdn+wfbH/n64j8gtDsxqIpok8+v/vo4cPJxuSb3/ymtZY5AiorNoRwcHDw8OHjl66/lKZp2zQdNaT7SZJo89g3FzcnV27crN/78OD0gdP68eOHk70Rh4AcJQalUFuEyBAlKlRRxr2hyYujRw8HNhnmRQT2MSaClfDGy9dDkjz84gs3W/QTa5FzazfHE5toQ4JKAYrSepAOWt/WZT3Me0IynU5Pnx1+/s7vF6tFX9F0Xa6btj/qbW7twGrtyzoIPrl396t1YwsrIAzAKCyojfJt+MPvP1zMVj/+6Y9fvnEzBp+mKUfdSH3n01uudd/65lva2KZuXdtN7wf99bfeGo9H/6N//I/2Ll46mi02+0WGEl21f++zr0zeShUhR1AQJJA2ShnftBgCIdUhLBarSW840iq6NnIQJKfs7kvX29Q+fvw4lvWQTAoIEm+8cnPv4gUHUUg8e7eaI0rkiEQhtI8fPsyzLC/yjcl4Mhl/2rY9BJ1nTfCr2WySp7tpniXqxLXvvvPrmz/8k0s//C4DCEStNCmtSX92684nH30y7Pf/6i//rN/POBpgburyi7sP+kXyle9+U1vT1M1qVXEIHQ+o/+xHP0AQAijrVtr1ds8OTcTouapPjw5funQ5QkREeX7JAyFpYAS+c+cTaKqdNHOrFUu02kRS+eULqp8/efBFs1joGBQDMvRHo7e+/k2VJAwgEqfT6Wq5fMSSF/l4Y3zh0sVr16/ledYr+oVJVvtP0zRLMMSmxkQrIIey9E0gQ9YeHR598NvfXf3Rd4w13VUWQBTa5te/+Jvl/OT73/v6Rl+f7H/uva/q+uOPP0qS5NVXX13Oj5kFUa+WpXcNEdo01cG3CEIgljilOMn1d9+88Zt334sYnj3Zv7K5bZTyMaCCGGPX+oFaY1tTVU4ya9s46PUdwCK4fHuTxqPP7t9dzhc5UC/NfVWTUkmaFaNRABQik6rNjY2N8XgyHG3vbWdFnvV6Risi4sgAMOgPlFIxNJk1LQettIiUIbTOtYKNsVcuX1ZGreaztm1c24YYf/fb3773h99sTAZf++prx08ficB0Ojs9m/aL3nA0Oj585rz3LvrA88X65Gx2eDRlAC0IhAQcmSMJGwlb/fzy5vDxw/1qIWenxxcv7HEEL0KIIBJjAK3CaiXzJVUVR2A0aO3Wjeuhn3/0ya16vR4mSS4IjXPeB4WorXRXayhAlCzJsyzd3BhnaWKtaZvW5Lm11otXpPr9QWoTo1sMHnxAIc8cvE+UCkrlRZEZi87NTo6XqxURnZ6evvObX3OMP/jT703Gk+j9Yrm8e+/R1tZOlg+fHU2n01nj2rOzxdHRCaJqWr8uS+e9RlCCgkjPL06QxNore3uPv3hIhh98cW9naxOIsMswi2giYT58drA6O5uohKJfeN/b3Vaj4e27nykfx2ke66ppWks6orgQ6ugDsEZERZrQhQgCHJkFWbBIs0QbFLDGENJgMJhsboba9Yw1ROu2cd51k+vJEAq8/4f3X/mHP7l48XJ89Oh4evbL3/xu/+nRhd29K1evVS1/dvvuuiqtzf7w4eet96v1ajqbG2uVNiHEqlzO5/MiT4uipwEAgQTE+eBDYEER3tjY2N3d3n9yQCiPHj+6fuNGlCgiighi1Bzq1SpEH0OMghs3X1bbk1uf3fGLFTW+aRuNgKTW3rUsbFREQEWosBuCbwQRMERmwC7BKF0eQikRUNaStcu6ct4DSERi0pFQCANHxfG37703+Bf/zU//6mfbu5d+8bt3P3v46GxZ33xja/9wevvTOx999PHm5qZN7Gw6RcS2bSKziVK3y8Fg+Nqbb26Mx5PJOM9STRKJUYSf54BEBEjp19944/HTfRfDw/3Hw82N4eaGhAAhKoXkYzmbYeSV9zvXrtH21q1793jd2No7V6bGRIFlVQYGTBIhEpEktXk/j9oEorKqo49IJkRQXXM4M54PBgKVJY2EWbVOhEmRQs2k0WoHoQohrFdrxvd//37Vhv3T43/7q18G0tlg/N6tz373h49jZGPNsnEnTw4yqy9eurCRbOzt7l68dGHQ6xVFUVV1XdeEOFvMtekui0JljFZKk1IhMCH1B4Obr77y3m//cP3Ky5/evv3t732v1+vVyyV0zeytD40f7Gyqva1379ySVZNVDbTeWONiXNVVBFJpQta2PgCg0apuqnlV1y4IUK8/cM6ZIgMk0th6X/u2GAwBBLSyRVGydyLMYDQYY4NwJMomG6Tt0cn0nd/9/tYXXxwtV2uJi7oeDEe9NI8urNfLop9v7Wz9L//+/+LGy9eVwvVyXlVl01RHRwdVWdWtm89n3aU0+vcffJjnRVH0sixXSaE9S4AQWiPy2vUbR4+fHp8c7+xdvnPrzttvva2UjRJMan2awPZOcvXiB/c+C+tl1vjgG7GqDNK2DkQn1lqd+MgxBiZ4uP8gGOV9YNQmLwbDng8eRILzJdRJ2kMyGg0JBLQwGK36w75J6rICo/vjceXa2WqNZUsqUL9ggtP5fDpf7OztffPmq9qYne2tIs9TixujvtK2nyZP958uVsv5Yr5cL+qmCi4iYZZlaX+itREQ/MabbxubIGLe6125dOn7f/Ldi3u7HHxkLxIPj45//vO/U8rs7FzYmGy8dO06aa0x3Pvo47MHjw/u3uOyTJjXi3kVnYMokYmUNYlRBpCa4Ne+ffu733r5m283HAWpDTHrD/cuX0l7g2Iw6PWKNFVAZr4qF7PFar56+Pln7//mN6eHB4VOXdNWrm2jI61IqTRP26YNIexeuzoYDrVNfvhnP758+YoIu7Zumrqq1ov5bLlclevK+ag0JalVGokABUIMdVkRovdeKa2Rsa0aF8JytX6y/+TOnTs/+uGffvtb38jSJLhmZ3vnu9/91t/+7d+u1ymh7Gv96quvK5KI9PDxo8zHhGExXbS+cSCsIDFGGw2AQdh55wVsXuSDUe2iB2YQ0VqQnA9cVU8PD5erdfBhXVVPDg+bNhhF7NqKQxnjqp6zABnVm0xa57LMXrx44aXr1zfG49HWdpJm2tjG+c8+v71er8rVqmkqZjZJRkRJUaQiIbiqXNVNCSJWYZYmvTS1xlg7sMbgP/7pPxIQH3ldVVVT1XWFKK+9+srP/vynVy5fAIiIcuvTW7/6u1/t7FwYT3aGg43GlZ/8+jfJYhVOT5vlzAcvgNqkWimj0cXoowQBz9KwXLzx8vd/8qMmTZyIAD47OT46OrF5nmb5qiwjc4hRgFrv1+u1a+rlYsZtMyiy3e1tUnprZ+ulmy/v7e30+32tqK3qcr2ezmbzxaJ23vmgtc7SRBEBh9bH2bKsyhXHaI1KjE6tThM76Bd5blHAOx+Cd00jILrXK5z3vSQrBoMo7L1rXXN0fPrP/sX/5+/97C/e+trrdbXa2d782lff/OTWZyFi0R89vnd3/fSwOTmzMSiSflGkOhVUVXBV8C4yGBMFI5IgZNubj6fThyen67ZllnVZBuY0z1nAOde0jjkYa513W5ubb3/1G5cv7Gnhti53d7bzLEetWu/my8XTp8/KdbVerRBEOJAiUJoQ6qqqq7VrmnK1ZAGTJkWajYaT8aiXGC0xuKaBGBZnq+nZWVWVIpIYk1iLf//Hf08Zc/nKlduf3yVFvV6BAKSprSv27VtfeX1jMswTA0jzxfrug31l0jeuXH78u/cWdx8Mi9RaJas6Nv40NFPxpY9g1GhzOxAezWYqzfKNsUMQVAC4WCx8CHXdaKM3NjdtYrMs293dvnzl8u7W5t7eXi/L2qY6Ozw62N8nhNVqtSrXqHQQQaW9D03jJIYY66ZpaucAKEuzPM8GvQKE8yzNUqsJCaGpy+VisZzPXes4MiO3TSMivbxIE5umqRYSQWmDPz07cSEYTcCiCIS5bsrVfHbl4t6F3a1r118ajcY//rOXfvHr3/yb375zc++ixPhkOW/KNfpWRNTOpCWozpagVRtDWbe1SG50XTcth9C0HMJ4PN7cnIQYLl68eOPGy5cvXxqPx1pTjGG9Wj178mg2nc6n07qqYmBFaLQxSbqqqtli0TofQ9DaaqI0oclkQ5AQqWldW1cVIgi7ar2C4JxzrlGK2qZ1zhMoQuVDFCFFioUCY+OCBkVBIqBEZhD2PmaJjd6fnJz0+kV/MLh06fL05PjW6tbm3oVsXYvIw6eHn99/hIEH/f7ZYkUi/SwfBKzras2sRBGLzYpe2luvy+3d8ddu3tjb3ez3iyQxwXsA1kqPRgOJzcO7t1dlOZvN2rqJzJFjiLGsGgGIIYpg5BiZe/18WORWaxEhEZC4XCyXZTmdzqfTaZZYBEiMvnHtklECIN1FWUmSlmXjWpdmRbmqQ3D9fp/ZrdfVcDjQi8VsOBggMEpgDq+/9vqbr79x7+69LH+0t7vtmubTz+/PZtOyrOT9j/rDUZLnFlXlQr2uq9olWbq9u12X69PFosjyze3BYjGLvrapubC3e+XK1a++9XbR74v4EPxyuVy5drGYu7Z98njfeVfXzbqskZCQIsemaVrfeh+RUIR7RT7o5x17s1wsm7qp62q1WDa1a5rWeS+I2torVy9516wWUx88RgGRuml8iJGFlLZZEiNPNraGw4G1tm3bpqknkwn+R//4PyzX62988xvvv//ByelZnhd13T558pQQekW2sbVV181sPiOiEIKxtsjz7ool3/hyVfZ7/e3drcbVg/HAajXKiiyxO7vbW5uTNMsEqWzbs9livVq1beO9V0oBoFKakKqqWi6Xq7J+fquidNyitZaUguhJyXpdLZfrsqyquvEhcjeIFRPsBhUSBZA8y4DbQZ5sD3MjTIBt4x48fjyYjH/2V38vhPj0yRNrM22UImyalkNMkkRXNe9duG6TAemEGaqqcs5nqWmdm63WQaArcd3c3JzP503TrNelRDceDkf9Hkbf7yUvXb109fqV7d1tpVS5Wtfr0rnmdDZbPXq8rMoQRRmbJEmSplletG27Xpfr9bRtXVVVLNLdTWiMUQaJVNu29aqp67oqK++cc+F8xiwSkekoNBFkZqUoCMQQ16ulJcmHg0FvMCxyqw2zPD06cS4o0qCoC8m8D2hUN+NUmPV80SqzPj776OnT07Ksh4N+Wc6A45tvvLGqa++cc+746FhpFUNM07TX6126sFmXaxK6+dK16y9dL/IcFT569MC17XpdO9eCcK/XU1r3+gMfOcRYN+3Z2cw555zzPnjvkagb2BfYd3N86qpunTsfyseCqIm0UkmUKABIJAiAFAGiRAAGUCGGEKJCscZOhsMLOxcMYdO0WtFgMHx2crJaV9ZYAUVKAcjzixwIIusI+my21goFjKJ0ta7LdVXkGSJMT0/quhmNRm+//bWbN25euXx5PBkrUonFDz54v1yXeZIenxyJiCCQ1khEWhmwAtL4sJ4vyrIipUR4uaqc84QYQvAh1HUdQ2xb54Pn88uqBEl1lzRq0tBNdmIIHEXOB/CGeD7WDogUKed9iFEbpUQymxRZ7ltH1gIDaRoNJw+fPF2vq42NDJCAUJOSEJEFAauy0otFmSQmTWySFoS4mE/zYpgXOQt+/0++c2F37+q1q3meV2V1cnz87ju3j46O102ttRqPRjLANM20VgxQ1c1yvnRtUzdtjNzdC+u88847167LqnVehL0PCF31szxPeClCjRoRUUjOr0Ji9txdFycAABGkm+jVjQUS7Ka3WpskSSLOGWOtNsAQQzfPPm5vb0+eTtbrsmnapmmS3D6/boRi633dapHYNDHGmFitTT7aMJpwY2OytzO6dHG8WCx+8+tfnZ6erNflcrGIMW5tbm5duKQIFamyWs3mU+e8j+xcqNuWY6iqpnHOB27aBqJwjADdWCtShMyilEKlELu7o0hYAAmeT0Znjsy+m3kHwN0kiK5sEokUESpCIAAwXYAQWWL0zjvvg1FI5zcJ9fv9nZ3tp0+fzmazIs+z4maWJihAAERkjdYxtNDdZyLABrSxQWS2bKv6yf17HxubbEwmApTlRX8wtNY656py3TaNVphlCQBW5fr45MxFLtdV3TRIKgLC+SECdbfkIQggCwhgPJ+KjcDndx7A+eTCKM/H5XfX++A5Bwbd9cmEREp1N4Gc75Sc51uU1go1x8gEwYfuXtD+YPDpnTsAWJ9WeT+/cf26iCjSEaJrnQYQjt1IVI4MVihJ0qr2vm22x70kz30UY9OqqVeLZV03y9VSYhgNBm+99ZUsscvF8vaTx03jL126ao2JU4mCSpnuCi+OTAhwPh+9G4VOfH6pDTAIR4bz1XYF4CzAz8dqQ7e453fdqO7qDGEQFgCIzFprInLPhzyHbpYvQAhBWVPkWYyBmWPgpwcHF3Z2eknCkeu6Pjs9/f8BtBpWHludJWEAAAAASUVORK5CYII=\n"
                },
                "metadata": {}
              }
            ]
          }
        },
        "964d4ae3a0094f89986e950bbf2a6576": {
          "model_module": "@jupyter-widgets/base",
          "model_name": "LayoutModel",
          "model_module_version": "1.2.0",
          "state": {
            "_model_module": "@jupyter-widgets/base",
            "_model_module_version": "1.2.0",
            "_model_name": "LayoutModel",
            "_view_count": null,
            "_view_module": "@jupyter-widgets/base",
            "_view_module_version": "1.2.0",
            "_view_name": "LayoutView",
            "align_content": null,
            "align_items": null,
            "align_self": null,
            "border": null,
            "bottom": null,
            "display": null,
            "flex": null,
            "flex_flow": null,
            "grid_area": null,
            "grid_auto_columns": null,
            "grid_auto_flow": null,
            "grid_auto_rows": null,
            "grid_column": null,
            "grid_gap": null,
            "grid_row": null,
            "grid_template_areas": null,
            "grid_template_columns": null,
            "grid_template_rows": null,
            "height": null,
            "justify_content": null,
            "justify_items": null,
            "left": null,
            "margin": null,
            "max_height": null,
            "max_width": null,
            "min_height": null,
            "min_width": null,
            "object_fit": null,
            "object_position": null,
            "order": null,
            "overflow": null,
            "overflow_x": null,
            "overflow_y": null,
            "padding": null,
            "right": null,
            "top": null,
            "visibility": null,
            "width": null
          }
        }
      }
    }
  },
  "cells": [
    {
      "cell_type": "markdown",
      "metadata": {
        "id": "view-in-github",
        "colab_type": "text"
      },
      "source": [
        "<a href=\"https://colab.research.google.com/github/qgrantq/upload-trial/blob/main/Upload_pic.ipynb\" target=\"_parent\"><img src=\"https://colab.research.google.com/assets/colab-badge.svg\" alt=\"Open In Colab\"/></a>"
      ]
    },
    {
      "cell_type": "code",
      "execution_count": 1,
      "metadata": {
        "colab": {
          "base_uri": "https://localhost:8080/"
        },
        "id": "zhHshho599Ke",
        "outputId": "cf3068e4-773c-474d-fcb6-bf9e1bdfc577"
      },
      "outputs": [
        {
          "output_type": "stream",
          "name": "stdout",
          "text": [
            "\u001b[K     |████████████████████████████████| 719 kB 36.1 MB/s \n",
            "\u001b[K     |████████████████████████████████| 1.2 MB 41.7 MB/s \n",
            "\u001b[K     |████████████████████████████████| 362 kB 73.1 MB/s \n",
            "\u001b[K     |████████████████████████████████| 4.4 MB 54.3 MB/s \n",
            "\u001b[K     |████████████████████████████████| 101 kB 13.8 MB/s \n",
            "\u001b[K     |████████████████████████████████| 212 kB 71.0 MB/s \n",
            "\u001b[K     |████████████████████████████████| 140 kB 62.6 MB/s \n",
            "\u001b[K     |████████████████████████████████| 1.1 MB 57.5 MB/s \n",
            "\u001b[K     |████████████████████████████████| 596 kB 65.8 MB/s \n",
            "\u001b[K     |████████████████████████████████| 127 kB 74.2 MB/s \n",
            "\u001b[K     |████████████████████████████████| 144 kB 63.1 MB/s \n",
            "\u001b[K     |████████████████████████████████| 94 kB 4.5 MB/s \n",
            "\u001b[K     |████████████████████████████████| 271 kB 76.1 MB/s \n",
            "\u001b[K     |████████████████████████████████| 6.6 MB 63.6 MB/s \n",
            "\u001b[31mERROR: pip's dependency resolver does not currently take into account all the packages that are installed. This behaviour is the source of the following dependency conflicts.\n",
            "datascience 0.10.6 requires folium==0.2.1, but you have folium 0.8.3 which is incompatible.\u001b[0m\n",
            "\u001b[?25hMounted at /content/gdrive\n"
          ]
        }
      ],
      "source": [
        "#! [ -e /content ] && pip install -Uqq fastbook\n",
        "#import fastbook\n",
        "#fastbook.setup_book()"
      ]
    },
    {
      "cell_type": "code",
      "source": [
        "#! pip install folium==0.2.1"
      ],
      "metadata": {
        "colab": {
          "base_uri": "https://localhost:8080/"
        },
        "id": "IcsqBuxVA8Py",
        "outputId": "bd6b106a-3e80-4eb9-bdea-10edc2462e8f"
      },
      "execution_count": 6,
      "outputs": [
        {
          "output_type": "stream",
          "name": "stdout",
          "text": [
            "Looking in indexes: https://pypi.org/simple, https://us-python.pkg.dev/colab-wheels/public/simple/\n",
            "Collecting folium==0.2.1\n",
            "  Downloading folium-0.2.1.tar.gz (69 kB)\n",
            "\u001b[K     |████████████████████████████████| 69 kB 7.8 MB/s \n",
            "\u001b[?25hRequirement already satisfied: Jinja2 in /usr/local/lib/python3.7/dist-packages (from folium==0.2.1) (2.11.3)\n",
            "Requirement already satisfied: MarkupSafe>=0.23 in /usr/local/lib/python3.7/dist-packages (from Jinja2->folium==0.2.1) (2.0.1)\n",
            "Building wheels for collected packages: folium\n",
            "  Building wheel for folium (setup.py) ... \u001b[?25l\u001b[?25hdone\n",
            "  Created wheel for folium: filename=folium-0.2.1-py3-none-any.whl size=79808 sha256=4b216d812478ecff4baacc1e83a9f7c60913417d0e74f0f826d932be12ec722f\n",
            "  Stored in directory: /root/.cache/pip/wheels/9a/f0/3a/3f79a6914ff5affaf50cabad60c9f4d565283283c97f0bdccf\n",
            "Successfully built folium\n",
            "Installing collected packages: folium\n",
            "  Attempting uninstall: folium\n",
            "    Found existing installation: folium 0.8.3\n",
            "    Uninstalling folium-0.8.3:\n",
            "      Successfully uninstalled folium-0.8.3\n",
            "Successfully installed folium-0.2.1\n"
          ]
        }
      ]
    },
    {
      "cell_type": "code",
      "source": [
        "#import folium"
      ],
      "metadata": {
        "id": "SEXEUcMyBHnv"
      },
      "execution_count": 7,
      "outputs": []
    },
    {
      "cell_type": "code",
      "source": [
        "#from fastbook import *\n",
        "#from fastai.vision.widgets import *"
      ],
      "metadata": {
        "id": "VoJ2wGam-5N-"
      },
      "execution_count": 8,
      "outputs": []
    },
    {
      "cell_type": "code",
      "source": [
        "btn_upload = widgets.FileUpload()\n",
        "btn_upload"
      ],
      "metadata": {
        "colab": {
          "base_uri": "https://localhost:8080/",
          "height": 49,
          "referenced_widgets": [
            "315c0c393e394536ba05d819634c3a12",
            "3ebff697cd6d4cd5a208caa38bbc8d7c",
            "ec1da2b38d4545298c781405b927f62f"
          ]
        },
        "id": "f15h4TMi-_C5",
        "outputId": "895c408e-9fee-4583-fe91-cf97ecc28090"
      },
      "execution_count": 9,
      "outputs": [
        {
          "output_type": "display_data",
          "data": {
            "text/plain": [
              "FileUpload(value={}, description='Upload')"
            ],
            "application/vnd.jupyter.widget-view+json": {
              "version_major": 2,
              "version_minor": 0,
              "model_id": "315c0c393e394536ba05d819634c3a12"
            }
          },
          "metadata": {}
        }
      ]
    },
    {
      "cell_type": "code",
      "source": [
        "img = PILImage.create(btn_upload.data[-1])"
      ],
      "metadata": {
        "id": "7xP1rESJ_Vhw"
      },
      "execution_count": 10,
      "outputs": []
    },
    {
      "cell_type": "code",
      "source": [
        "out_pl = widgets.Output()\n",
        "out_pl.clear_output()\n",
        "with out_pl: display(img.to_thumb(128,128))\n",
        "out_pl"
      ],
      "metadata": {
        "colab": {
          "base_uri": "https://localhost:8080/",
          "height": 145,
          "referenced_widgets": [
            "ee6d70cbb2e94139abd6a016801d32b4",
            "964d4ae3a0094f89986e950bbf2a6576"
          ]
        },
        "id": "zkbWPzmq_2ML",
        "outputId": "08dbf2dd-7f19-47c1-fec7-01b1153c2113"
      },
      "execution_count": 11,
      "outputs": [
        {
          "output_type": "display_data",
          "data": {
            "text/plain": [
              "Output()"
            ],
            "application/vnd.jupyter.widget-view+json": {
              "version_major": 2,
              "version_minor": 0,
              "model_id": "ee6d70cbb2e94139abd6a016801d32b4"
            }
          },
          "metadata": {}
        }
      ]
    }
  ]
}