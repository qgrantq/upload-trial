{
  "nbformat": 4,
  "nbformat_minor": 0,
  "metadata": {
    "colab": {
      "name": "Upload-pic.ipynb",
      "provenance": [],
      "collapsed_sections": [],
      "authorship_tag": "ABX9TyNxWWo46uJ2aYhjmGkN1cpF",
      "include_colab_link": true
    },
    "kernelspec": {
      "name": "python3",
      "display_name": "Python 3"
    },
    "language_info": {
      "name": "python"
    },
    "gpuClass": "standard",
    "widgets": {
      "application/vnd.jupyter.widget-state+json": {
        "32c421cf1ab34c9a973b98b6f0481c53": {
          "model_module": "@jupyter-widgets/controls",
          "model_name": "FileUploadModel",
          "model_module_version": "1.5.0",
          "state": {
            "_counter": 0,
            "_dom_classes": [],
            "_model_module": "@jupyter-widgets/controls",
            "_model_module_version": "1.5.0",
            "_model_name": "FileUploadModel",
            "_view_count": null,
            "_view_module": "@jupyter-widgets/controls",
            "_view_module_version": "1.5.0",
            "_view_name": "FileUploadView",
            "accept": "",
            "button_style": "",
            "data": [],
            "description": "Upload",
            "description_tooltip": null,
            "disabled": false,
            "error": "",
            "icon": "upload",
            "layout": "IPY_MODEL_ffd327e0052045a88735846eea539fac",
            "metadata": [],
            "multiple": false,
            "style": "IPY_MODEL_c85bbc93fc8547ad8cc7356ae38214a5"
          }
        },
        "ffd327e0052045a88735846eea539fac": {
          "model_module": "@jupyter-widgets/base",
          "model_name": "LayoutModel",
          "model_module_version": "1.2.0",
          "state": {
            "_model_module": "@jupyter-widgets/base",
            "_model_module_version": "1.2.0",
            "_model_name": "LayoutModel",
            "_view_count": null,
            "_view_module": "@jupyter-widgets/base",
            "_view_module_version": "1.2.0",
            "_view_name": "LayoutView",
            "align_content": null,
            "align_items": null,
            "align_self": null,
            "border": null,
            "bottom": null,
            "display": null,
            "flex": null,
            "flex_flow": null,
            "grid_area": null,
            "grid_auto_columns": null,
            "grid_auto_flow": null,
            "grid_auto_rows": null,
            "grid_column": null,
            "grid_gap": null,
            "grid_row": null,
            "grid_template_areas": null,
            "grid_template_columns": null,
            "grid_template_rows": null,
            "height": null,
            "justify_content": null,
            "justify_items": null,
            "left": null,
            "margin": null,
            "max_height": null,
            "max_width": null,
            "min_height": null,
            "min_width": null,
            "object_fit": null,
            "object_position": null,
            "order": null,
            "overflow": null,
            "overflow_x": null,
            "overflow_y": null,
            "padding": null,
            "right": null,
            "top": null,
            "visibility": null,
            "width": null
          }
        },
        "c85bbc93fc8547ad8cc7356ae38214a5": {
          "model_module": "@jupyter-widgets/controls",
          "model_name": "ButtonStyleModel",
          "model_module_version": "1.5.0",
          "state": {
            "_model_module": "@jupyter-widgets/controls",
            "_model_module_version": "1.5.0",
            "_model_name": "ButtonStyleModel",
            "_view_count": null,
            "_view_module": "@jupyter-widgets/base",
            "_view_module_version": "1.2.0",
            "_view_name": "StyleView",
            "button_color": null,
            "font_weight": ""
          }
        },
        "ddbe7b1ea98741bc824b53749461ebd0": {
          "model_module": "@jupyter-widgets/controls",
          "model_name": "ButtonModel",
          "model_module_version": "1.5.0",
          "state": {
            "_dom_classes": [],
            "_model_module": "@jupyter-widgets/controls",
            "_model_module_version": "1.5.0",
            "_model_name": "ButtonModel",
            "_view_count": null,
            "_view_module": "@jupyter-widgets/controls",
            "_view_module_version": "1.5.0",
            "_view_name": "ButtonView",
            "button_style": "",
            "description": "Display picture",
            "disabled": false,
            "icon": "",
            "layout": "IPY_MODEL_2d3f41c7114e49d595919881e291bb45",
            "style": "IPY_MODEL_637195fa98bd46d4aa45f8239c4ba9da",
            "tooltip": ""
          }
        },
        "2d3f41c7114e49d595919881e291bb45": {
          "model_module": "@jupyter-widgets/base",
          "model_name": "LayoutModel",
          "model_module_version": "1.2.0",
          "state": {
            "_model_module": "@jupyter-widgets/base",
            "_model_module_version": "1.2.0",
            "_model_name": "LayoutModel",
            "_view_count": null,
            "_view_module": "@jupyter-widgets/base",
            "_view_module_version": "1.2.0",
            "_view_name": "LayoutView",
            "align_content": null,
            "align_items": null,
            "align_self": null,
            "border": null,
            "bottom": null,
            "display": null,
            "flex": null,
            "flex_flow": null,
            "grid_area": null,
            "grid_auto_columns": null,
            "grid_auto_flow": null,
            "grid_auto_rows": null,
            "grid_column": null,
            "grid_gap": null,
            "grid_row": null,
            "grid_template_areas": null,
            "grid_template_columns": null,
            "grid_template_rows": null,
            "height": null,
            "justify_content": null,
            "justify_items": null,
            "left": null,
            "margin": null,
            "max_height": null,
            "max_width": null,
            "min_height": null,
            "min_width": null,
            "object_fit": null,
            "object_position": null,
            "order": null,
            "overflow": null,
            "overflow_x": null,
            "overflow_y": null,
            "padding": null,
            "right": null,
            "top": null,
            "visibility": null,
            "width": null
          }
        },
        "637195fa98bd46d4aa45f8239c4ba9da": {
          "model_module": "@jupyter-widgets/controls",
          "model_name": "ButtonStyleModel",
          "model_module_version": "1.5.0",
          "state": {
            "_model_module": "@jupyter-widgets/controls",
            "_model_module_version": "1.5.0",
            "_model_name": "ButtonStyleModel",
            "_view_count": null,
            "_view_module": "@jupyter-widgets/base",
            "_view_module_version": "1.2.0",
            "_view_name": "StyleView",
            "button_color": null,
            "font_weight": ""
          }
        },
        "0dad88157e2f4b9189304dd7ce1fb993": {
          "model_module": "@jupyter-widgets/output",
          "model_name": "OutputModel",
          "model_module_version": "1.0.0",
          "state": {
            "_dom_classes": [],
            "_model_module": "@jupyter-widgets/output",
            "_model_module_version": "1.0.0",
            "_model_name": "OutputModel",
            "_view_count": null,
            "_view_module": "@jupyter-widgets/output",
            "_view_module_version": "1.0.0",
            "_view_name": "OutputView",
            "layout": "IPY_MODEL_d7315e0c9c424f39807eea0163939d67",
            "msg_id": "",
            "outputs": [
              {
                "output_type": "stream",
                "name": "stdout",
                "text": [
                  "Uploaded picture...\n"
                ]
              },
              {
                "output_type": "display_data",
                "data": {
                  "text/plain": "<PIL.JpegImagePlugin.JpegImageFile image mode=RGB size=183x275 at 0x7FC438E5E150>",
                  "image/png": "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\n"
                },
                "metadata": {}
              }
            ]
          }
        },
        "d7315e0c9c424f39807eea0163939d67": {
          "model_module": "@jupyter-widgets/base",
          "model_name": "LayoutModel",
          "model_module_version": "1.2.0",
          "state": {
            "_model_module": "@jupyter-widgets/base",
            "_model_module_version": "1.2.0",
            "_model_name": "LayoutModel",
            "_view_count": null,
            "_view_module": "@jupyter-widgets/base",
            "_view_module_version": "1.2.0",
            "_view_name": "LayoutView",
            "align_content": null,
            "align_items": null,
            "align_self": null,
            "border": null,
            "bottom": null,
            "display": null,
            "flex": null,
            "flex_flow": null,
            "grid_area": null,
            "grid_auto_columns": null,
            "grid_auto_flow": null,
            "grid_auto_rows": null,
            "grid_column": null,
            "grid_gap": null,
            "grid_row": null,
            "grid_template_areas": null,
            "grid_template_columns": null,
            "grid_template_rows": null,
            "height": null,
            "justify_content": null,
            "justify_items": null,
            "left": null,
            "margin": null,
            "max_height": null,
            "max_width": null,
            "min_height": null,
            "min_width": null,
            "object_fit": null,
            "object_position": null,
            "order": null,
            "overflow": null,
            "overflow_x": null,
            "overflow_y": null,
            "padding": null,
            "right": null,
            "top": null,
            "visibility": null,
            "width": null
          }
        }
      }
    }
  },
  "cells": [
    {
      "cell_type": "markdown",
      "metadata": {
        "id": "view-in-github",
        "colab_type": "text"
      },
      "source": [
        "<a href=\"https://colab.research.google.com/github/qgrantq/upload-trial/blob/main/Upload_pic.ipynb\" target=\"_parent\"><img src=\"https://colab.research.google.com/assets/colab-badge.svg\" alt=\"Open In Colab\"/></a>"
      ]
    },
    {
      "cell_type": "code",
      "source": [
        "#! pip install ipywidgets"
      ],
      "metadata": {
        "id": "MdQQ39BKO3JF"
      },
      "execution_count": null,
      "outputs": []
    },
    {
      "cell_type": "code",
      "source": [
        "#import ipywidgets as widgets\n",
        "#import io\n",
        "#from PIL import Image"
      ],
      "metadata": {
        "id": "wILq7V3hPCdz"
      },
      "execution_count": 2,
      "outputs": []
    },
    {
      "cell_type": "code",
      "source": [
        "#from ipywidgets import FileUpload\n",
        "#from IPython.display import display\n"
      ],
      "metadata": {
        "id": "cagAzyPwqB_K"
      },
      "execution_count": 3,
      "outputs": []
    },
    {
      "cell_type": "code",
      "source": [
        "btn_upload = widgets.FileUpload()\n",
        "btn_upload"
      ],
      "metadata": {
        "colab": {
          "base_uri": "https://localhost:8080/",
          "height": 49,
          "referenced_widgets": [
            "32c421cf1ab34c9a973b98b6f0481c53",
            "ffd327e0052045a88735846eea539fac",
            "c85bbc93fc8547ad8cc7356ae38214a5"
          ]
        },
        "id": "f15h4TMi-_C5",
        "outputId": "65bce639-77cd-4993-f467-db82521ab348"
      },
      "execution_count": 10,
      "outputs": [
        {
          "output_type": "display_data",
          "data": {
            "text/plain": [
              "FileUpload(value={}, description='Upload')"
            ],
            "application/vnd.jupyter.widget-view+json": {
              "version_major": 2,
              "version_minor": 0,
              "model_id": "32c421cf1ab34c9a973b98b6f0481c53"
            }
          },
          "metadata": {}
        }
      ]
    },
    {
      "cell_type": "code",
      "source": [
        "\n",
        "img = Image.open(io.BytesIO(btn_upload.data[-1]))\n",
        "    \n",
        "\n",
        "\n",
        "button = widgets.Button(description=\"Display picture\")\n",
        "output = widgets.Output()\n",
        "\n",
        "display(button, output)\n",
        "\n",
        "def on_button_clicked(b):\n",
        "    with output:\n",
        "        print(\"Uploaded picture...\")\n",
        "        display(img)\n",
        "\n",
        "button.on_click(on_button_clicked)\n"
      ],
      "metadata": {
        "colab": {
          "base_uri": "https://localhost:8080/",
          "height": 341,
          "referenced_widgets": [
            "ddbe7b1ea98741bc824b53749461ebd0",
            "2d3f41c7114e49d595919881e291bb45",
            "637195fa98bd46d4aa45f8239c4ba9da",
            "0dad88157e2f4b9189304dd7ce1fb993",
            "d7315e0c9c424f39807eea0163939d67"
          ]
        },
        "id": "1CMir--uqkka",
        "outputId": "ac06bf2f-a9c1-43c6-ce49-e050bb0c28b9"
      },
      "execution_count": 8,
      "outputs": [
        {
          "output_type": "display_data",
          "data": {
            "text/plain": [
              "Button(description='Display picture', style=ButtonStyle())"
            ],
            "application/vnd.jupyter.widget-view+json": {
              "version_major": 2,
              "version_minor": 0,
              "model_id": "ddbe7b1ea98741bc824b53749461ebd0"
            }
          },
          "metadata": {}
        },
        {
          "output_type": "display_data",
          "data": {
            "text/plain": [
              "Output()"
            ],
            "application/vnd.jupyter.widget-view+json": {
              "version_major": 2,
              "version_minor": 0,
              "model_id": "0dad88157e2f4b9189304dd7ce1fb993"
            }
          },
          "metadata": {}
        }
      ]
    }
  ]
}